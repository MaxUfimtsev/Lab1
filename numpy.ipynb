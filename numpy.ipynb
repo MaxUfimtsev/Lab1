{
  "cells": [
    {
      "cell_type": "markdown",
      "metadata": {
        "id": "vC84e9kzyxPy"
      },
      "source": [
        "<h1>Импорт библиотек"
      ]
    },
    {
      "cell_type": "code",
      "execution_count": 3,
      "metadata": {
        "id": "cgKeNegmQG5S"
      },
      "outputs": [],
      "source": [
        "import numpy as np\n",
        "import matplotlib.pyplot as plt\n",
        "import unittest"
      ]
    },
    {
      "cell_type": "markdown",
      "metadata": {
        "id": "qFM9uVU2x4Ls"
      },
      "source": [
        "<h1>Задача 1. Дан набор из $p$ матриц размерностью $(n, n)$ и $p$ векторов размерностью $(n, 1)$, найти сумму произведений матриц на векторы. Написать тесты для кода"
      ]
    },
    {
      "cell_type": "code",
      "execution_count": null,
      "metadata": {
        "id": "IAbUvEiYyWFF"
      },
      "outputs": [],
      "source": [
        "def sum_prod(X, V):\n",
        "    '''\n",
        "    X - матрицы (n, n)\n",
        "    V - векторы (n, 1)\n",
        "    Гарантируется, что len(X) == len(V)\n",
        "    '''\n",
        "    new_matrix = np.zeros((X[0].shape[0], 1))\n",
        "\n",
        "    for i in range(len(X)):\n",
        "        new_matrix += np.dot(X[i], V[i])\n",
        "\n",
        "    return new_matrix"
      ]
    },
    {
      "cell_type": "code",
      "execution_count": null,
      "metadata": {},
      "outputs": [],
      "source": [
        "x = int(input(\"Введите количество матриц и векторов: \"))\n",
        "\n",
        "X = []\n",
        "V = []\n",
        "\n",
        "for i in range(x):\n",
        "    matrix = []\n",
        "    size = int(input(\"Введите размер матрицы одной цифрой. (Размер матрицы N x N): \"))\n",
        "    for j in range(size):\n",
        "        row = list(map(int, input(f\"Введите {size} элемент(а/ов) матрицы через пробел. Строка {j+1}: \").split(' ')))\n",
        "        matrix.append(row)\n",
        "    X.append(np.array(matrix))\n",
        "\n",
        "    vector = list(map(int, input(f\"Введите {size} элемент(а/ов) вектора через пробел. Строка {j+1}: \").split(' ')))\n",
        "    V.append(np.array(vector)[:, np.newaxis])\n",
        "\n",
        "sum_prod(X, V)"
      ]
    },
    {
      "cell_type": "markdown",
      "metadata": {
        "id": "TKwPG4fIy2w4"
      },
      "source": [
        "<h1>Задача 2. Дана матрица M, напишите функцию, которая бинаризует матрицу по некоторому threshold (то есть, все значения большие threshold становятся равными 1, иначе 0). Напишите тесты для кода"
      ]
    },
    {
      "cell_type": "code",
      "execution_count": 1,
      "metadata": {
        "id": "KQDNMgsjRNH7"
      },
      "outputs": [],
      "source": [
        "def binarize(M, threshold=0.5):\n",
        "    return np.where(M > threshold, 1, 0)"
      ]
    },
    {
      "cell_type": "code",
      "execution_count": 4,
      "metadata": {},
      "outputs": [
        {
          "data": {
            "text/plain": [
              "array([[0, 0],\n",
              "       [0, 1]])"
            ]
          },
          "execution_count": 4,
          "metadata": {},
          "output_type": "execute_result"
        }
      ],
      "source": [
        "binarize(np.array([[0.1, 0.2], [0.3, 0.4]]), 0.3)"
      ]
    },
    {
      "cell_type": "code",
      "execution_count": 5,
      "metadata": {},
      "outputs": [],
      "source": [
        "class TestBinarize(unittest.TestCase):\n",
        "\n",
        "    def test(self):\n",
        "        self.assertTrue(np.array_equal(binarize(np.array([[0.1, 0.2], [0.3, 0.4]]), 0.3), np.array([[0, 0], [0, 1]])))\n",
        "        self.assertTrue(np.array_equal(binarize(np.array([[0.1, 0.2], [0.3, 0.4], [0.5, 0.6]])), np.array([[0, 0], [0, 0], [0, 1]])))"
      ]
    },
    {
      "cell_type": "markdown",
      "metadata": {
        "id": "IY5L-h-7zWhN"
      },
      "source": [
        "<h1>Задача 3. Напишите функцию, которая возвращает уникальные элементы из каждой строки матрицы. Напишите такую же функцию, но для столбцов. Напишите тесты для кода"
      ]
    },
    {
      "cell_type": "code",
      "execution_count": 6,
      "metadata": {
        "id": "-8dEZhR0SBC-"
      },
      "outputs": [],
      "source": [
        "def unique_rows(mat):\n",
        "\n",
        "    size_x, size_y = np.shape(mat)\n",
        "    unique_elements = []\n",
        "    for i in range(size_x):\n",
        "        elements = []\n",
        "        for j in mat[i]:\n",
        "            if j not in elements:\n",
        "                elements.append(int(j))\n",
        "        unique_elements.append(elements)\n",
        "\n",
        "    return unique_elements\n",
        "\n",
        "def unique_columns(mat):\n",
        "\n",
        "    mat = np.transpose(mat)\n",
        "    size_x, size_y = np.shape(mat)\n",
        "    unique_elements = []\n",
        "    for i in range(size_y):\n",
        "        elements = []\n",
        "        for j in mat[i]:\n",
        "            if j not in elements:\n",
        "                elements.append(int(j))\n",
        "        unique_elements.append(elements)\n",
        "\n",
        "    return unique_elements"
      ]
    },
    {
      "cell_type": "code",
      "execution_count": 7,
      "metadata": {},
      "outputs": [
        {
          "data": {
            "text/plain": [
              "[[1, 4], [2, 5]]"
            ]
          },
          "execution_count": 7,
          "metadata": {},
          "output_type": "execute_result"
        }
      ],
      "source": [
        "unique_columns(np.array([[1, 2, 3], [4, 5, 6]]))"
      ]
    },
    {
      "cell_type": "code",
      "execution_count": 8,
      "metadata": {},
      "outputs": [],
      "source": [
        "class TestUniqueRows(unittest.TestCase):\n",
        "\n",
        "    def test(self):\n",
        "        self.assertEqual(unique_rows(np.array([[1, 2, 3], [4, 5, 6]])), [[1, 2, 3], [4, 5, 6]])\n",
        "        self.assertEqual(unique_columns(np.array([[1, 2, 3], [4, 5, 6]])), [[1, 4], [2, 5], [3, 6]])\n",
        "        self.assertEqual(unique_rows(np.array([[1, 1, 2], [3, 4, 5], [5, 4, 3]])), [[1, 2], [3, 4, 5], [5, 4, 3]])\n",
        "        self.assertEqual(unique_columns(np.array([[1, 1, 2], [3, 4, 5], [5, 4, 3]])), [[1, 3, 5], [1, 4], [2, 5, 3]])"
      ]
    },
    {
      "cell_type": "markdown",
      "metadata": {
        "id": "roYAlo4Jz-lH"
      },
      "source": [
        "<h1>Задача 4. Напишите функцию, которая заполняет матрицу с размерами $(m, n)$ случайными числами, распределенными по нормальному закону. Затем считает мат. ожидание и дисперсию для каждого из столбцов и строк, а также строит для каждой строки и столбца гистограмму значений (использовать функцию hist из модуля matplotlib.plot)"
      ]
    },
    {
      "cell_type": "code",
      "execution_count": 9,
      "metadata": {
        "id": "nZK_71hMSQzv"
      },
      "outputs": [],
      "source": [
        "def generate_matrix(m, n):\n",
        "    size = (m, n)\n",
        "    matrix = np.random.normal(0, 1, size)\n",
        "    transformed_matrix = np.transpose(matrix)\n",
        "    exp_value_row = []\n",
        "    disp_value_row = []\n",
        "    exp_value_column = []\n",
        "    disp_value_column = []\n",
        "\n",
        "    for i in range(m):\n",
        "        exp_value_row.append(np.mean(matrix[i]))\n",
        "        disp_value_row.append(np.mean(matrix[i]))\n",
        "\n",
        "    for i in range(n):\n",
        "        exp_value_column.append(np.mean(transformed_matrix[i]))\n",
        "        disp_value_column.append(np.mean(matrix[i]))\n",
        "\n",
        "    plt.subplot(2, 2, 1)\n",
        "    plt.hist(exp_value_row, color='blue')\n",
        "    plt.title('Математическое ожидание строк')\n",
        "\n",
        "    plt.subplot(2, 2, 2)\n",
        "    plt.hist(disp_value_row, color='green')\n",
        "    plt.title('Дисперсия строк')\n",
        "\n",
        "    plt.subplot(2, 2, 3)\n",
        "    plt.hist(exp_value_column, color='orange')\n",
        "    plt.title('Математическое ожидание столбцов')\n",
        "\n",
        "    plt.subplot(2, 2, 4)\n",
        "    plt.hist(disp_value_column, color='red')\n",
        "    plt.title('Дисперсия столбцов')\n",
        "\n",
        "    plt.tight_layout()\n",
        "    plt.show()"
      ]
    },
    {
      "cell_type": "code",
      "execution_count": 10,
      "metadata": {},
      "outputs": [
        {
          "data": {
            "image/png": "[encoded data removed]",
            "text/plain": [
              "<Figure size 640x480 with 4 Axes>"
            ]
          },
          "metadata": {},
          "output_type": "display_data"
        }
      ],
      "source": [
        "generate_matrix(6, 5)"
      ]
    },
    {
      "cell_type": "markdown",
      "metadata": {
        "id": "BDyATNdM0dJ2"
      },
      "source": [
        "<h1>Задача 5. Напишите функцию, которая заполняет матрицу $(m, n)$ в шахматном порядке заданными числами $a$ и $b$. Напишите тесты для кода"
      ]
    },
    {
      "cell_type": "code",
      "execution_count": 11,
      "metadata": {
        "id": "RWNJYWQGecS6"
      },
      "outputs": [],
      "source": [
        "def chess(m, n, a, b):\n",
        "    matrix = np.zeros((m, n))\n",
        "    \n",
        "    for i in range(m):\n",
        "        for j in range(n):\n",
        "            if (i + j) % 2 == 0:\n",
        "                matrix[i][j] = a\n",
        "            else:\n",
        "                matrix[i][j] = b\n",
        "    \n",
        "    return matrix"
      ]
    },
    {
      "cell_type": "code",
      "execution_count": 12,
      "metadata": {},
      "outputs": [
        {
          "data": {
            "text/plain": [
              "array([[0., 1., 0., 1.],\n",
              "       [1., 0., 1., 0.],\n",
              "       [0., 1., 0., 1.],\n",
              "       [1., 0., 1., 0.]])"
            ]
          },
          "execution_count": 12,
          "metadata": {},
          "output_type": "execute_result"
        }
      ],
      "source": [
        "chess(4, 4, 0, 1)"
      ]
    },
    {
      "cell_type": "markdown",
      "metadata": {
        "id": "-ymXLtTN0vB6"
      },
      "source": [
        "<h1>Задача 6. Напишите функцию, которая отрисовывает прямоугольник с заданными размерами (a, b) на изображении размера (m, n), цвет фона задайте в схеме RGB, как и цвет прямоугольника. Цвета также должны быть параметрами функции. Напишите аналогичную функцию но для овала с полуосями a и b. Напишите тесты для кода.\n",
        "Примечание: уравнение эллипса (границы овала) можно записать как:\n",
        "<h1>$\\frac{(x-x_0)^2}{a^2}+\\frac{(y-y_0)^2}{b^2}=1$"
      ]
    },
    {
      "cell_type": "code",
      "execution_count": 13,
      "metadata": {
        "id": "sNfl1t_kfOF4"
      },
      "outputs": [],
      "source": [
        "def draw_rectangle(a, b, m, n, rectangle_color, background_color):\n",
        "    # Your code goes here\n",
        "    pass\n",
        "\n",
        "def draw_ellipse(a, b, m, n, ellipse_color, background_color):\n",
        "    # Your code goes here\n",
        "    pass"
      ]
    },
    {
      "cell_type": "markdown",
      "metadata": {
        "id": "S82c38oz244H"
      },
      "source": [
        "<h1>Задача 7. Дан некий временной ряд. Для данного ряда нужно найти его: математическое ожидание, дисперсию, СКО, найти все локальные максимумы и минимумы (локальный максимум - это точка, которая больше своих соседних точек, а локальный минимум - это точка, которая меньше своих соседей), а также вычислить для данного ряда другой ряд, получаемый методом скользящего среднего с размером окна $p$.\n",
        "<h1>Примечание: метод скользящего среднего подразумевает нахождение среднего из подмножетсва ряда размером $p$"
      ]
    },
    {
      "cell_type": "code",
      "execution_count": 14,
      "metadata": {
        "id": "Zb9mIVge5MMt"
      },
      "outputs": [],
      "source": [
        "def count_math(row, w_size):\n",
        "    exp_value = np.mean(row)\n",
        "    disp = np.var(row)\n",
        "    deviation = np.std(row)\n",
        "\n",
        "    local_min = []\n",
        "    local_max = []\n",
        "\n",
        "    for i in range(len(row)):\n",
        "        if i == 0 and row[i] > row[i+1]:\n",
        "            local_max.append(row[i].item())\n",
        "        elif i == 0 and row[i] < row[i+1]:\n",
        "            local_min.append(row[i].item())\n",
        "        elif i == len(row)-1 and row[i-1] < row[i]:\n",
        "            local_max.append(row[i].item())\n",
        "        elif i == len(row)-1 and row[i-1] > row[i]:\n",
        "            local_min.append(row[i].item())\n",
        "        elif row[i-1] < row[i] > row[i+1]:\n",
        "            local_max.append(row[i].item())\n",
        "        elif row[i-1] > row[i] < row[i+1]:\n",
        "            local_min.append(row[i].item())\n",
        "\n",
        "    res = []\n",
        "    for i in range(len(row)):\n",
        "        if i >= w_size - 1:\n",
        "            res.append((sum(row[i - w_size + 1 : i + 1]) / w_size).item())\n",
        "\n",
        "    return f\"математическое ожидание: {exp_value}\\nДисперсия: {disp}\\nСКО: {deviation}\\nЛокальные максимумы: {', '.join(map(str, local_max))}\\nЛокальные минимумы: {', '.join(map(str, local_min))}\\nСкользящее среднее: {', '.join(map(str, res))}\""
      ]
    },
    {
      "cell_type": "code",
      "execution_count": 15,
      "metadata": {},
      "outputs": [
        {
          "name": "stdout",
          "output_type": "stream",
          "text": [
            "математическое ожидание: 4.769230769230769\n",
            "Дисперсия: 6.792899408284023\n",
            "СКО: 2.606319130168833\n",
            "Локальные максимумы: 8, 9, 8, 6\n",
            "Локальные минимумы: 5, 3, 1, 2, 1\n",
            "Скользящее среднее: 5.333333333333333, 5.0, 5.333333333333333, 4.666666666666667, 5.666666666666667, 5.333333333333333, 6.0, 4.333333333333333, 3.3333333333333335, 4.333333333333333, 4.0\n"
          ]
        }
      ],
      "source": [
        "row = np.array([5, 8, 3, 4, 9, 1, 7, 8, 3, 2, 5, 6, 1])\n",
        "print(count_math(row, 3))"
      ]
    },
    {
      "cell_type": "markdown",
      "metadata": {
        "id": "jPkylmOX5O9n"
      },
      "source": [
        "<h1> Задача 8. Дан некоторый вектор с целочисленными метками классов, напишите функцию, которая выполняет one-hot-encoding для данного вектора\n",
        "<h1> One-hot-encoding - представление, в котором на месте метки некоторого класса стоит 1, в остальных позициях стоит 0. Например для вектора [0, 2, 3, 0] one-hot-encoding выглядит как: [[1, 0, 0, 0], [0, 0, 1, 0], [0, 0, 0, 1], [1, 0, 0, 0]]"
      ]
    },
    {
      "cell_type": "code",
      "execution_count": 16,
      "metadata": {
        "id": "Y-jlnZvw56lD"
      },
      "outputs": [],
      "source": [
        "def encoding(vector):\n",
        "\n",
        "    new_matrix = np.zeros((len(vector), int(max(vector))+1))\n",
        "\n",
        "    for i in range(len(vector)):\n",
        "        new_matrix[i, vector[i]] = 1\n",
        "\n",
        "    return new_matrix"
      ]
    },
    {
      "cell_type": "code",
      "execution_count": 17,
      "metadata": {},
      "outputs": [
        {
          "data": {
            "text/plain": [
              "array([[1., 0., 0., 0.],\n",
              "       [0., 0., 1., 0.],\n",
              "       [0., 0., 0., 1.],\n",
              "       [1., 0., 0., 0.]])"
            ]
          },
          "execution_count": 17,
          "metadata": {},
          "output_type": "execute_result"
        }
      ],
      "source": [
        "encoding(np.array([0, 2, 3, 0]))"
      ]
    }
  ],
  "metadata": {
    "colab": {
      "provenance": []
    },
    "kernelspec": {
      "display_name": "Python 3",
      "name": "python3"
    },
    "language_info": {
      "codemirror_mode": {
        "name": "ipython",
        "version": 3
      },
      "file_extension": ".py",
      "mimetype": "text/x-python",
      "name": "python",
      "nbconvert_exporter": "python",
      "pygments_lexer": "ipython3",
      "version": "3.11.3"
    }
  },
  "nbformat": 4,
  "nbformat_minor": 0
}
