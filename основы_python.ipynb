{
  "cells": [
    {
      "cell_type": "code",
      "execution_count": 2,
      "metadata": {},
      "outputs": [],
      "source": [
        "import unittest"
      ]
    },
    {
      "cell_type": "markdown",
      "metadata": {
        "id": "M-DGa20PaHnu"
      },
      "source": [
        "#Задача 1\n",
        "Написать функцию на вход которой подается строка, состоящая из латинских букв.\n",
        "Функция должна вернуть количество гласных букв (a, e, i, o, u) в этой строке. Написать тесты для кода"
      ]
    },
    {
      "cell_type": "code",
      "execution_count": 2,
      "metadata": {
        "id": "XvX8X_JJ6PCb"
      },
      "outputs": [],
      "source": [
        "def count_vowels(line):\n",
        "    my_list = ['a', 'e', 'i', 'o', 'u', 'y']\n",
        "    counter = 0\n",
        "    for letter in line:\n",
        "        if letter.lower() in my_list:\n",
        "            counter += 1\n",
        "\n",
        "    return counter"
      ]
    },
    {
      "cell_type": "code",
      "execution_count": 3,
      "metadata": {},
      "outputs": [
        {
          "data": {
            "text/plain": [
              "3"
            ]
          },
          "execution_count": 3,
          "metadata": {},
          "output_type": "execute_result"
        }
      ],
      "source": [
        "count_vowels(\"Hello, World!\")"
      ]
    },
    {
      "cell_type": "code",
      "execution_count": 5,
      "metadata": {},
      "outputs": [],
      "source": [
        "class TestCountVowels(unittest.TestCase):\n",
        "\n",
        "    def test(self):\n",
        "        self.assertEquals(count_vowels(\"\"), 0)\n",
        "        self.assertEquals(count_vowels(\" \"), 0)\n",
        "        self.assertEquals(count_vowels(\"Hello, World!\"), 3)\n",
        "        self.assertEquals(count_vowels(\"Hi! My name is...\"), 5)"
      ]
    },
    {
      "cell_type": "markdown",
      "metadata": {
        "id": "t2ClV_Y0bbr6"
      },
      "source": [
        "# Задача 2\n",
        "Написать функцию на вход, которой подается строка. Функция должна вернуть true, если\n",
        "каждый символ в строке встречается только 1 раз, иначе должна вернуть false. Написать тесты для кода"
      ]
    },
    {
      "cell_type": "code",
      "execution_count": 5,
      "metadata": {
        "id": "FppbECao6VIz"
      },
      "outputs": [],
      "source": [
        "def count_letters(line):\n",
        "    my_list = []\n",
        "    for letter in line:\n",
        "        if letter not in my_list:\n",
        "            my_list.append(letter)\n",
        "        else:\n",
        "            return False\n",
        "    return True"
      ]
    },
    {
      "cell_type": "code",
      "execution_count": 6,
      "metadata": {},
      "outputs": [
        {
          "data": {
            "text/plain": [
              "False"
            ]
          },
          "execution_count": 6,
          "metadata": {},
          "output_type": "execute_result"
        }
      ],
      "source": [
        "count_letters(\"Hello, world!\")"
      ]
    },
    {
      "cell_type": "code",
      "execution_count": 7,
      "metadata": {},
      "outputs": [],
      "source": [
        "class TestCountLetters(unittest.TestCase):\n",
        "\n",
        "    def test(self):\n",
        "        self.assertEquals(count_letters(\"\"), True)\n",
        "        self.assertEquals(count_letters(\"Hello!\"), False)\n",
        "        self.assertEquals(count_letters(\"abcdefghijklmnopqrstuvwxyz\"), True)"
      ]
    },
    {
      "cell_type": "markdown",
      "metadata": {
        "id": "udRiIK1cdt6E"
      },
      "source": [
        "# Задача 3\n",
        "Написать функцию, которая принимает положительное число и возвращает количество\n",
        "бит равных 1 в этом числе. Написать тесты для кода"
      ]
    },
    {
      "cell_type": "code",
      "execution_count": 8,
      "metadata": {
        "id": "6tkfDJRz6dp_"
      },
      "outputs": [],
      "source": [
        "def count_bits_equal_one(num):\n",
        "    bits = bin(num)\n",
        "    return bits.count('1')"
      ]
    },
    {
      "cell_type": "code",
      "execution_count": 9,
      "metadata": {},
      "outputs": [
        {
          "data": {
            "text/plain": [
              "2"
            ]
          },
          "execution_count": 9,
          "metadata": {},
          "output_type": "execute_result"
        }
      ],
      "source": [
        "count_bits_equal_one(5)"
      ]
    },
    {
      "cell_type": "code",
      "execution_count": 10,
      "metadata": {},
      "outputs": [],
      "source": [
        "class TestCountBits(unittest.TestCase):\n",
        "\n",
        "    def test(self):\n",
        "        self.assertEqual(count_bits_equal_one(5), 2)\n",
        "        self.assertEqual(count_bits_equal_one(101), 4)\n",
        "        self.assertEqual(count_bits_equal_one(651), 5)\n",
        "        self.assertEqual(count_bits_equal_one(7), 3)"
      ]
    },
    {
      "cell_type": "markdown",
      "metadata": {
        "id": "26dDUz-Ae17N"
      },
      "source": [
        "# Задача 4\n",
        "Написать функцию, которая принимает положительное число. Функция должна вернуть то,\n",
        "сколько раз необходимо перемножать цифры числа или результат перемножения, чтобы\n",
        "получилось число состоящее из одной цифры.\n",
        "Например, для входного числа:\n",
        "· 39 функция должна вернуть 3, так как 3*9=27 => 2*7=14 => 1*4=4\n",
        "· 4 функция должна вернуть 0, так как число уже состоит из одной цифры\n",
        "· 999 функция должна вернуть 4, так как 9*9*9=729 => 7*2*9=126 => 1*2*6=12 =>\n",
        "1*2=2. Написать тесты для кода"
      ]
    },
    {
      "cell_type": "code",
      "execution_count": 11,
      "metadata": {
        "id": "BH1A_Mgi6i4G"
      },
      "outputs": [],
      "source": [
        "def magic(n):\n",
        "    if n < 10:\n",
        "        return 0\n",
        "\n",
        "    counter = 0\n",
        "    while n >= 10:\n",
        "        multiplied_num = 1\n",
        "        while n != 0:\n",
        "            last_num = n % 10\n",
        "            multiplied_num *= last_num\n",
        "            n //= 10\n",
        "\n",
        "        n = multiplied_num\n",
        "        counter += 1\n",
        "\n",
        "    return counter"
      ]
    },
    {
      "cell_type": "code",
      "execution_count": 12,
      "metadata": {},
      "outputs": [
        {
          "data": {
            "text/plain": [
              "3"
            ]
          },
          "execution_count": 12,
          "metadata": {},
          "output_type": "execute_result"
        }
      ],
      "source": [
        "magic(39)"
      ]
    },
    {
      "cell_type": "code",
      "execution_count": 13,
      "metadata": {},
      "outputs": [],
      "source": [
        "class TestMagic(unittest.TestCase):\n",
        "\n",
        "    def test(self):\n",
        "        self.assertEqual(magic(39), 3)\n",
        "        self.assertEqual(magic(999), 4)\n",
        "        self.assertEqual(magic(5), 0)\n",
        "        self.assertEqual(magic(11), 1)"
      ]
    },
    {
      "cell_type": "markdown",
      "metadata": {
        "id": "0nS-kIa8g8vd"
      },
      "source": [
        "# Задача 5\n",
        "Написать функцию, которая принимает два целочисленных вектора одинаковой длины и\n",
        "возвращает среднеквадратическое отклонение двух векторов. Написать тесты для кода"
      ]
    },
    {
      "cell_type": "code",
      "execution_count": 14,
      "metadata": {
        "id": "8iphx4LM6xbx"
      },
      "outputs": [],
      "source": [
        "def mse(pred, true):\n",
        "    \n",
        "    pass"
      ]
    },
    {
      "cell_type": "markdown",
      "metadata": {
        "id": "vpIPKL439zkw"
      },
      "source": [
        "# Задача 6\n",
        "Написать функцию, принимающая целое положительное число. Функция должна вернуть\n",
        "строку вида “(n1**p1)(n2**p2)…(nk**pk)” представляющая разложение числа на простые\n",
        "множители (если pi == 1, то выводить только ni).\n",
        "Например, для числа 86240 функция должна вернуть “(2**5)(5)(7**2)(11)”. Написать тесты для кода"
      ]
    },
    {
      "cell_type": "code",
      "execution_count": 15,
      "metadata": {
        "id": "pFebmcZk94Jw"
      },
      "outputs": [],
      "source": [
        "def get_simple_nums(num):\n",
        "    l = []\n",
        "\n",
        "    while num != 1:\n",
        "        for i in range(2, num + 1):\n",
        "            if num % i == 0:\n",
        "                l.append(i)\n",
        "                num //= i\n",
        "                break\n",
        "\n",
        "    line = \"\"\n",
        "    index = 0\n",
        "    while True:\n",
        "        rank = l.count(l[index])\n",
        "        if rank != 1:\n",
        "            line += f\"({l[index]}**{rank})\"\n",
        "        else:\n",
        "            line += f\"({l[index]})\"\n",
        "        index += l.count(l[index])\n",
        "\n",
        "        if index == len(l):\n",
        "            break\n",
        "\n",
        "    return line"
      ]
    },
    {
      "cell_type": "code",
      "execution_count": 16,
      "metadata": {},
      "outputs": [
        {
          "data": {
            "text/plain": [
              "'(2**5)(5)(7**2)(11)'"
            ]
          },
          "execution_count": 16,
          "metadata": {},
          "output_type": "execute_result"
        }
      ],
      "source": [
        "get_simple_nums(86240)"
      ]
    },
    {
      "cell_type": "code",
      "execution_count": 17,
      "metadata": {},
      "outputs": [],
      "source": [
        "class TestFunc(unittest.TestCase):\n",
        "\n",
        "    def test(self):\n",
        "        self.assertEqual(get_simple_nums(86240), f\"(2**5)(5)(7**2)(11)\")\n",
        "        self.assertEqual(get_simple_nums(123), f\"(3)(41)\")\n",
        "        self.assertEqual(get_simple_nums(4), f\"(2**2)\")\n",
        "        self.assertEqual(get_simple_nums(56234), f\"(2)(31)(907)\")"
      ]
    },
    {
      "cell_type": "markdown",
      "metadata": {
        "id": "ps2s0BudX7A2"
      },
      "source": [
        "# Задача 7\n",
        "Написать функцию, принимающая целое число n, задающее количество кубиков. Функция\n",
        "должна определить, можно ли из данного кол-ва кубиков построить пирамиду, то есть\n",
        "можно ли представить число n как 1^2+2^2+3^2+…+k^2. Если можно, то функция должна\n",
        "вернуть k, иначе строку “It is impossible”. Написать тесты для кода"
      ]
    },
    {
      "cell_type": "code",
      "execution_count": 18,
      "metadata": {
        "id": "3YPjEXxhX_YT"
      },
      "outputs": [],
      "source": [
        "def pyramid(number):\n",
        "    k = 1\n",
        "    while True:\n",
        "        number -= k**2\n",
        "\n",
        "        if number == 0:\n",
        "            return k\n",
        "        elif number < 0:\n",
        "            return \"It is impossible\"\n",
        "\n",
        "        k += 1"
      ]
    },
    {
      "cell_type": "code",
      "execution_count": 19,
      "metadata": {},
      "outputs": [
        {
          "data": {
            "text/plain": [
              "2"
            ]
          },
          "execution_count": 19,
          "metadata": {},
          "output_type": "execute_result"
        }
      ],
      "source": [
        "pyramid(5)"
      ]
    },
    {
      "cell_type": "code",
      "execution_count": 20,
      "metadata": {},
      "outputs": [],
      "source": [
        "class TestPyramid(unittest.TestCase):\n",
        "\n",
        "    def test(self):\n",
        "        self.assertEqual(pyramid(1), 1)\n",
        "        self.assertEqual(pyramid(30), 4)\n",
        "        self.assertEqual(pyramid(91), 6)\n",
        "        self.assertEqual(pyramid(156), \"It is impossible\")"
      ]
    },
    {
      "cell_type": "markdown",
      "metadata": {
        "id": "KeKgmIdAQMEJ"
      },
      "source": [
        "# Задача 8\n",
        "Функция принимает на вход положительное число и определяет является ли оно сбалансированным, т.е. сумма цифр до средних равна сумме цифр после. Средними в случае нечетного числа цифр считать одну цифру, в случае четного - две средних. Написать тесты для кода"
      ]
    },
    {
      "cell_type": "code",
      "execution_count": 21,
      "metadata": {
        "id": "gMAAqtqlQrZt"
      },
      "outputs": [],
      "source": [
        "def balanced_num(num):\n",
        "    length = len(str(num))\n",
        "\n",
        "    if length % 2 != 0:\n",
        "        middle = length // 2\n",
        "        sum_left = sum_left_func(num, middle)\n",
        "        sum_right = sum_right_func(num, middle + 1)\n",
        "    else:\n",
        "        middle = length // 2\n",
        "        sum_left = sum_left_func(num, middle - 1)\n",
        "        sum_right = sum_right_func(num, middle + 1)\n",
        "\n",
        "    return sum_right == sum_left\n",
        "\n",
        "def sum_left_func(num, left_part):\n",
        "    sum = 0\n",
        "    for i in str(num)[:left_part]:\n",
        "        sum += int(i)\n",
        "    return sum\n",
        "\n",
        "def sum_right_func(num, right_part):\n",
        "    sum = 0\n",
        "    for i in str(num)[right_part:]:\n",
        "        sum += int(i)\n",
        "    return sum"
      ]
    },
    {
      "cell_type": "code",
      "execution_count": 22,
      "metadata": {},
      "outputs": [
        {
          "data": {
            "text/plain": [
              "True"
            ]
          },
          "execution_count": 22,
          "metadata": {},
          "output_type": "execute_result"
        }
      ],
      "source": [
        "balanced_num(151)"
      ]
    },
    {
      "cell_type": "code",
      "execution_count": 23,
      "metadata": {},
      "outputs": [],
      "source": [
        "class TestBalance(unittest.TestCase):\n",
        "\n",
        "    def test(self):\n",
        "        self.assertEqual(balanced_num(151), True)\n",
        "        self.assertEqual(balanced_num(1234321), True)\n",
        "        self.assertEqual(balanced_num(12345), False)\n",
        "        self.assertEqual(balanced_num(426651), True)"
      ]
    }
  ],
  "metadata": {
    "colab": {
      "provenance": []
    },
    "kernelspec": {
      "display_name": "Python 3",
      "name": "python3"
    },
    "language_info": {
      "codemirror_mode": {
        "name": "ipython",
        "version": 3
      },
      "file_extension": ".py",
      "mimetype": "text/x-python",
      "name": "python",
      "nbconvert_exporter": "python",
      "pygments_lexer": "ipython3",
      "version": "3.11.3"
    }
  },
  "nbformat": 4,
  "nbformat_minor": 0
}
